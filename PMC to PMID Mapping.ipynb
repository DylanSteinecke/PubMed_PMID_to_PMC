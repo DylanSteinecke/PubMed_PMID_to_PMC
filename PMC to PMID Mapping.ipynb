{
 "cells": [
  {
   "cell_type": "markdown",
   "id": "5237cd8a",
   "metadata": {},
   "source": [
    "### PMIDs to PMCs"
   ]
  },
  {
   "cell_type": "code",
   "execution_count": 1,
   "id": "10fe8846",
   "metadata": {},
   "outputs": [],
   "source": [
    "import json, requests as req, pandas as pd, biomedkg_utils\n",
    "from biomedkg_utils import *\n",
    "from re import search\n",
    "from multiprocessing import cpu_count, Process"
   ]
  },
  {
   "cell_type": "code",
   "execution_count": 9,
   "id": "08772a41",
   "metadata": {},
   "outputs": [
    {
     "name": "stdout",
     "output_type": "stream",
     "text": [
      "Running jobs...\n",
      "Done!ess of batch 1: 722/723\n"
     ]
    }
   ],
   "source": [
    "def map_pmc_pmids(batch_id, pmids):\n",
    "    '''\n",
    "    FUNCTION:\n",
    "    - Map a batch of PMIDs to PMCs\n",
    "    - API Source: https://www.ncbi.nlm.nih.gov/pmc/tools/id-converter-api/\n",
    "    \n",
    "    PARAMS:\n",
    "    - batch_id: The batch ID\n",
    "    - pmids (list): the batch of PMIDs\n",
    "    '''\n",
    "    url = 'https://www.ncbi.nlm.nih.gov/pmc/utils/idconv/v1.0/?ids='\n",
    "    tot_reqs = int(len(pmids)/200)+1\n",
    "    temp_outfile = 'data/pmc_pmid_temp_'+str(batch_id)+'.txt'\n",
    "    \n",
    "    with open(temp_outfile,'w') as fout:\n",
    "        for i in range(0, int(len(pmids)/200)+1):\n",
    "\n",
    "            # Print progress\n",
    "            if batch_id == 1:\n",
    "                print(str('Progress of batch 1: '+str(i)+'/'+str(tot_reqs)), end='\\r')  \n",
    "\n",
    "            # Submit batch of up to 200 PMIDs\n",
    "            if i < int(len(pmids)/200)+1:\n",
    "                r = req.get(url+','.join(pmids[i*200:(i+1)*200])+'&format=json')\n",
    "            else:\n",
    "                r = req.get(url+','.join(pmids[i*200:])+'&format=json')\n",
    "\n",
    "            # Map all PMID-PMCs\n",
    "            records = r.json()['records']\n",
    "            for record in records:\n",
    "                try:\n",
    "                    pmc = record['pmcid']\n",
    "                    pmid = record['pmid']\n",
    "                    fout.write(pmid+'|'+pmc+'\\n')\n",
    "                except:\n",
    "                    break\n",
    "                    \n",
    "# Uses threading to parallelize the process and speed it up\n",
    "pmids = json.load(open('data/pmids.json'))\n",
    "multiprocess_a_list(pmids, map_pmc_pmids)"
   ]
  },
  {
   "cell_type": "code",
   "execution_count": 15,
   "id": "451a6cd4",
   "metadata": {},
   "outputs": [
    {
     "name": "stdout",
     "output_type": "stream",
     "text": [
      "Mapped 150697 IDs\n"
     ]
    }
   ],
   "source": [
    "def merge_pmid_pmc_mapping(pmid2pmc, pmc2pmid):\n",
    "    '''Merge the files output by the parallel processes\n",
    "    \n",
    "    PARAMS:\n",
    "    - pmid2pmc: Dictionary to map the PMIDs to the PMCs\n",
    "    - pmc2pmid: Dictionary to map the PMCs to the PMIDs\n",
    "    '''\n",
    "    procs = cpu_count()\n",
    "\n",
    "    for batch_id in range(procs):\n",
    "        temp_outfile = 'data/pmc_pmid_temp_'+str(batch_id)+'.txt'\n",
    "        with open(temp_outfile) as fin:\n",
    "            for line in fin:\n",
    "                line = line.split('|')\n",
    "                pmid = line[0]\n",
    "                pmc = line[1].replace('PMC','').strip()\n",
    "                pmid2pmc.setdefault(pmid, set()).add(pmc)\n",
    "                pmc2pmid.setdefault(pmc, set()).add(pmid)\n",
    "            \n",
    "    return pmid2pmc, pmc2pmid\n",
    "    \n",
    "    \n",
    "pmid2pmc, pmc2pmid = dict(), dict()\n",
    "pmid2pmc, pmc2pmid = merge_pmid_pmc_mapping(pmid2pmc, pmc2pmid)\n",
    "    \n",
    "# Checking that the PMID-PMC is 1-to-1\n",
    "for pmid,pmc in pmid2pmc.items():\n",
    "    assert len(pmc) == 1\n",
    "for pmc,pmid in pmc2pmid.items():\n",
    "    assert len(pmid) == 1\n",
    "    \n",
    "# Making the PMID-PMC not have list values\n",
    "pmc2pmid = switch_dictset_to_dictlist(pmc2pmid)\n",
    "pmid2pmc = switch_dictset_to_dictlist(pmid2pmc)\n",
    "\n",
    "for pmid,pmc in pmid2pmc.copy().items():\n",
    "    pmid2pmc[pmid] = pmc[0]\n",
    "for pmc,pmid in pmc2pmid.copy().items():\n",
    "    pmc2pmid[pmc] = pmid[0]  \n",
    "\n",
    "'''Export the PMC-PMID mappings'''\n",
    "json.dump(pmc2pmid, open('data/pmc2pmid','w'))\n",
    "json.dump(pmid2pmc, open('data/pmid2pmc','w'))\n",
    "\n",
    "assert len(pmid2pmc) == len(pmc2pmid)\n",
    "print('Mapped', len(pmid2pmc), 'IDs')"
   ]
  },
  {
   "cell_type": "code",
   "execution_count": null,
   "id": "cc73eb08",
   "metadata": {},
   "outputs": [],
   "source": [
    "\n",
    "\n",
    "\n",
    "\n",
    "\n",
    "\n",
    "\n",
    "\n",
    "\n",
    "\n",
    "\n",
    "\n",
    "\n"
   ]
  },
  {
   "cell_type": "code",
   "execution_count": null,
   "id": "389c0c74",
   "metadata": {},
   "outputs": [],
   "source": [
    "'''The non-parallelized version (slower)'''\n",
    "\n",
    "def map_pmc_pmids(batch_id, pmids):\n",
    "    '''\n",
    "    FUNCTION:\n",
    "    - Map a batch of PMIDs to PMCs\n",
    "    \n",
    "    PARAMS:\n",
    "    - batch_id: The batch ID\n",
    "    - pmids (list): the batch of PMIDs\n",
    "    '''\n",
    "    \n",
    "    pmids = json.load(open('data/pmids.json'))\n",
    "    url = 'https://www.ncbi.nlm.nih.gov/pmc/utils/idconv/v1.0/?ids='\n",
    "    tot_reqs = int(len(pmids)/200)+1\n",
    "\n",
    "    for i in range(0, int(len(pmids)/200)+1):\n",
    "\n",
    "        # Print progress\n",
    "        print(i,'/',tot_reqs, end='\\r')  \n",
    "\n",
    "        # Submit batch of up to 200 PMIDs\n",
    "        if i < int(len(pmids)/200)+1:\n",
    "            r = req.get(url+','.join(pmids[i*200:(i+1)*200])+'&format=json')\n",
    "        else:\n",
    "            r = req.get(url+','.join(pmids[i*200:])+'&format=json')\n",
    "\n",
    "        # Map all PMID-PMCs\n",
    "        records = r.json()['records']\n",
    "        for record in records:\n",
    "            try:\n",
    "                pmc = record['pmcid']\n",
    "                pmid = record['pmid']\n",
    "                pmid2pmc.setdefault(pmid, set()).add(pmc)\n",
    "                pmc2pmid.setdefault(pmc, set()).add(pmid)\n",
    "            except:\n",
    "                break"
   ]
  }
 ],
 "metadata": {
  "kernelspec": {
   "display_name": "Python 3 (ipykernel)",
   "language": "python",
   "name": "python3"
  },
  "language_info": {
   "codemirror_mode": {
    "name": "ipython",
    "version": 3
   },
   "file_extension": ".py",
   "mimetype": "text/x-python",
   "name": "python",
   "nbconvert_exporter": "python",
   "pygments_lexer": "ipython3",
   "version": "3.9.7"
  }
 },
 "nbformat": 4,
 "nbformat_minor": 5
}
